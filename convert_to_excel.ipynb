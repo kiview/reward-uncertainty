{
 "cells": [
  {
   "cell_type": "code",
   "execution_count": 10,
   "metadata": {},
   "outputs": [],
   "source": [
    "import pandas as pd\n",
    "import scipy.io as sio\n",
    "import numpy as np\n",
    "import os\n",
    "import re\n",
    "import time\n",
    "\n",
    "from numpy.lib import recfunctions as rfn"
   ]
  },
  {
   "cell_type": "code",
   "execution_count": 13,
   "metadata": {},
   "outputs": [],
   "source": [
    "def convert_matlab_to_pd_and_clean(file_name):\n",
    "\n",
    "    # Import Matlab file to Pandas\n",
    "    matlab_filename = file_name\n",
    "\n",
    "    mat = sio.loadmat(matlab_filename, squeeze_me=True)\n",
    "    mat_records = np.rec.array(mat['result'])\n",
    "    mat_records = rfn.drop_fields(mat_records, \"debug\")\n",
    "\n",
    "    df = pd.DataFrame.from_records(mat_records)\n",
    "\n",
    "    # Cleanup color names\n",
    "    df['cs'] = df['cs'].str.replace(\".*\\\\\\\\\", \"\")\n",
    "    df['cs'] = df['cs'].str.replace(\"\\\\.jpg\", \"\")\n",
    "\n",
    "    df['csi'] = df['csi'].str.replace(\".*\\\\\\\\\", \"\")\n",
    "    df['csi'] = df['csi'].str.replace(\"\\\\.jpg\", \"\")\n",
    "    \n",
    "    # Convert response frequencies to pd Series\n",
    "    i_respSeries = df['i_respPerTrialPerSec'].apply(pd.Series).fillna(value=0)\n",
    "    t_respSeries = df['t_respPerTrialPerSec'].apply(pd.Series).fillna(value=0)\n",
    "\n",
    "    df = pd.concat([df, t_respSeries], axis=1)\n",
    "    df = pd.concat([df, i_respSeries], axis=1)\n",
    "   \n",
    "    return df\n"
   ]
  },
  {
   "cell_type": "code",
   "execution_count": 14,
   "metadata": {},
   "outputs": [],
   "source": [
    "dir_path = \".\"\n",
    "\n",
    "matlab_file_pattern = re.compile(\"(\\d+-)+\\d+.*\\.mat\")\n",
    "\n",
    "now = time.strftime(\"%Y%m%d_%H%M%S\")\n",
    "writer = pd.ExcelWriter(now + '.xlsx')\n",
    "\n",
    "for f in os.listdir(dir_path):\n",
    "  if matlab_file_pattern.match(f):\n",
    "    df = convert_matlab_to_pd_and_clean(f)\n",
    "    df.to_excel(writer, f)\n",
    "    \n",
    "writer.save()"
   ]
  }
 ],
 "metadata": {
  "kernelspec": {
   "display_name": "Python 3",
   "language": "python",
   "name": "python3"
  },
  "language_info": {
   "codemirror_mode": {
    "name": "ipython",
    "version": 3
   },
   "file_extension": ".py",
   "mimetype": "text/x-python",
   "name": "python",
   "nbconvert_exporter": "python",
   "pygments_lexer": "ipython3",
   "version": "3.7.5"
  }
 },
 "nbformat": 4,
 "nbformat_minor": 4
}
